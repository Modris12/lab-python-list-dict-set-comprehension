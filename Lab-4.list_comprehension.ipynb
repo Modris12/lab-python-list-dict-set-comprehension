{
 "cells": [
  {
   "cell_type": "code",
   "execution_count": 114,
   "metadata": {},
   "outputs": [],
   "source": [
    "#1  \n",
    "products = [\"mug\",\"t-shirt\", \"hat\", \"book\", \"keychain\"]"
   ]
  },
  {
   "cell_type": "code",
   "execution_count": 115,
   "metadata": {},
   "outputs": [],
   "source": [
    "def initialize_inventory(products):\n",
    "    inventory = {}\n",
    "    print(\"Please enter the initial quantity for each product:\")\n",
    "    for product in products:\n",
    "        while True:\n",
    "            try:\n",
    "                quantity = int(input(f\"Enter quantity for {product}: \"))\n",
    "                if quantity < 0:\n",
    "                    print(\"Quantity cannot be negative. Please try again.\")\n",
    "                    continue\n",
    "                inventory[product] = quantity\n",
    "                break\n",
    "            except ValueError:\n",
    "                print(\"Invalid input. Please enter an integer.\")\n",
    "    return inventory\n"
   ]
  },
  {
   "cell_type": "code",
   "execution_count": 187,
   "metadata": {},
   "outputs": [],
   "source": [
    "def get_customer_orders(products):\n",
    "    print(\"Available products:\", \", \".join(products))\n",
    "    try:\n",
    "        num_orders = int(input(\"How many different products would you like to order? \"))\n",
    "        if num_orders <= 0:\n",
    "            print(\"You must order at least one product.\")\n",
    "            return set()\n",
    "    except ValueError:\n",
    "        print(\"Invalid input. Please enter a valid number.\")\n",
    "        return set()\n",
    "    customer_orders = {\n",
    "        input(f\"Enter the name of product {i + 1}: \").strip().lower()\n",
    "        for i in range(num_orders)\n",
    "    }\n",
    "    valid_orders = customer_orders.intersection(products)\n",
    "    invalid_orders = customer_orders - valid_orders\n",
    "    if invalid_orders:\n",
    "        print(f\"The following items were invalid and removed from your order: {', '.join(invalid_orders)}\")\n",
    "    \n",
    "    print(\"Your valid order:\", valid_orders)\n",
    "    return valid_orders\n",
    "\n",
    "def calculate_total_price(customer_orders):\n",
    "    if not customer_orders:\n",
    "        print(\"No items in the order to calculate the price.\")\n",
    "        return 0\n",
    "    \n",
    "    print(\"Please enter the price for each product in your order.\")\n",
    "    total_price = sum(\n",
    "        float(input(f\"Enter the price for {product}: \").strip())\n",
    "        for product in customer_orders\n",
    "    )\n",
    "    print(f\"The total price of your order is: ${total_price:.2f}\")\n",
    "    return total_price"
   ]
  },
  {
   "cell_type": "code",
   "execution_count": 188,
   "metadata": {},
   "outputs": [],
   "source": [
    "def update_inventory(customer_orders, inventory):\n",
    "    for product in customer_orders:\n",
    "        if product in inventory and inventory[product] > 0:\n",
    "            inventory[product] -= 1\n",
    "        else:\n",
    "            print(f\"Product {product} is out of stock.\")\n",
    "    inventory = {product: qty for product, qty in inventory.items() if qty > 0}\n",
    "    print(\"Updated inventory:\", inventory)\n",
    "    return inventory\n",
    "\n"
   ]
  },
  {
   "cell_type": "code",
   "execution_count": 189,
   "metadata": {},
   "outputs": [],
   "source": [
    "def print_order_statistics(order_statistics):\n",
    "    total_products_ordered, percentage_ordered = order_statistics\n",
    "    print(\"Order Statistics:\")\n",
    "    print(f\"Total Products Ordered: {total_products_ordered}\")\n",
    "    print(f\"Percentage of Products Ordered: {percentage_ordered:.2f}%\")"
   ]
  },
  {
   "cell_type": "code",
   "execution_count": 190,
   "metadata": {},
   "outputs": [],
   "source": [
    "def print_updated_inventory(inventory):\n",
    "    print(\"Updated Inventory:\")\n",
    "    for product, quantity in inventory.items():\n",
    "        print(f\"{product}: {quantity}\")\n",
    "        "
   ]
  },
  {
   "cell_type": "code",
   "execution_count": 191,
   "metadata": {},
   "outputs": [],
   "source": [
    "def calculate_order_statistics(customer_orders, products):\n",
    "    total_products_ordered = len(customer_orders)\n",
    "    percentage_ordered = (total_products_ordered / len(products)) * 100\n",
    "    return total_products_ordered, percentage_ordered\n"
   ]
  },
  {
   "cell_type": "code",
   "execution_count": 192,
   "metadata": {},
   "outputs": [],
   "source": [
    "def main():\n",
    "    products = [\"mug\", \"t-shirt\", \"hat\", \"book\", \"keychain\"]"
   ]
  },
  {
   "cell_type": "code",
   "execution_count": 203,
   "metadata": {},
   "outputs": [],
   "source": [
    "def calculate_total_price(customer_orders):\n",
    "    if not customer_orders:\n",
    "        print(\"No items in the order to calculate the price.\")\n",
    "        return 0\n",
    "    \n",
    "    print(\"Please enter the price for each product in your order.\")\n",
    "    \n",
    "    total_price = 0\n",
    "    for product in customer_orders:\n",
    "        price = float(input(f\"Enter the price for {product}: \").strip())\n",
    "        print(f\"The price of {product} is: ${price:.2f}\")  # Print the price of each product\n",
    "        total_price += price  # Add the product price to the total\n",
    "    \n",
    "    print(f\"The total price of your order is: €{total_price:.2f}\")\n",
    "    return total_price"
   ]
  },
  {
   "cell_type": "code",
   "execution_count": 204,
   "metadata": {},
   "outputs": [
    {
     "name": "stdout",
     "output_type": "stream",
     "text": [
      "Please enter the initial quantity for each product:\n",
      "Available products: mug, t-shirt, hat, book, keychain\n",
      "Your valid order: {'book', 'hat'}\n",
      "Updated inventory: {'mug': 5, 't-shirt': 5, 'hat': 4, 'book': 4, 'keychain': 5}\n",
      "Order Statistics:\n",
      "Total Products Ordered: 2\n",
      "Percentage of Products Ordered: 40.00%\n",
      "Updated Inventory:\n",
      "mug: 5\n",
      "t-shirt: 5\n",
      "hat: 4\n",
      "book: 4\n",
      "keychain: 5\n",
      "Please enter the price for each product in your order.\n",
      "The price of book is: $10.00\n",
      "The price of hat is: $4.00\n",
      "The total price of your order is: €14.00\n"
     ]
    },
    {
     "data": {
      "text/plain": [
       "14.0"
      ]
     },
     "execution_count": 204,
     "metadata": {},
     "output_type": "execute_result"
    }
   ],
   "source": [
    "inventory = initialize_inventory(products)\n",
    "\n",
    "customer_orders = get_customer_orders(products)\n",
    "\n",
    "update_inventory(customer_orders, inventory)\n",
    "\n",
    "order_statistics = calculate_order_statistics(customer_orders, products)\n",
    "\n",
    "print_order_statistics(order_statistics)\n",
    "\n",
    "print_updated_inventory(inventory)\n",
    "\n",
    "calculate_total_price(customer_orders)"
   ]
  },
  {
   "cell_type": "code",
   "execution_count": 205,
   "metadata": {},
   "outputs": [],
   "source": [
    "main()"
   ]
  },
  {
   "cell_type": "code",
   "execution_count": null,
   "metadata": {},
   "outputs": [],
   "source": []
  }
 ],
 "metadata": {
  "kernelspec": {
   "display_name": "Python 3",
   "language": "python",
   "name": "python3"
  },
  "language_info": {
   "codemirror_mode": {
    "name": "ipython",
    "version": 3
   },
   "file_extension": ".py",
   "mimetype": "text/x-python",
   "name": "python",
   "nbconvert_exporter": "python",
   "pygments_lexer": "ipython3",
   "version": "3.13.1"
  }
 },
 "nbformat": 4,
 "nbformat_minor": 2
}
